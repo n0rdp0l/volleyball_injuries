{
 "cells": [
  {
   "cell_type": "code",
   "execution_count": 1,
   "metadata": {},
   "outputs": [],
   "source": [
    "import pandas as pd\n",
    "import numpy as np\n",
    "from sklearn.preprocessing import OneHotEncoder\n",
    "import xgboost as xgb\n",
    "import scipy.sparse as sp\n",
    "from sklearn.metrics import make_scorer, mean_squared_error\n",
    "from sklearn.model_selection import TimeSeriesSplit\n",
    "import optuna\n",
    "from optuna.trial import TrialState\n",
    "from optuna.integration import XGBoostPruningCallback\n",
    "import matplotlib.pyplot as plt\n",
    "from sklearn.linear_model import ElasticNet\n"
   ]
  },
  {
   "cell_type": "code",
   "execution_count": 2,
   "metadata": {},
   "outputs": [
    {
     "name": "stderr",
     "output_type": "stream",
     "text": [
      "C:\\Users\\felix.wente\\AppData\\Local\\Temp\\ipykernel_7580\\3391109823.py:3: DtypeWarning: Columns (27,28,29,30,31,32) have mixed types. Specify dtype option on import or set low_memory=False.\n",
      "  df = pd.read_csv('df.csv')\n"
     ]
    }
   ],
   "source": [
    "# import df.csv\n",
    "\n",
    "df = pd.read_csv('df.csv')"
   ]
  },
  {
   "cell_type": "code",
   "execution_count": 3,
   "metadata": {},
   "outputs": [],
   "source": [
    "# Assume your dataframe is df and your date column is 'date'\n",
    "\n",
    "# Convert date to datetime if it's not already\n",
    "df['Date'] = pd.to_datetime(df['Date'])\n",
    "\n",
    "# Sort by date\n",
    "df.sort_values('Date', inplace=True)\n",
    "\n",
    "# Remove rows where the 'Injury' column has NA values\n",
    "df = df.dropna(subset=['Injury'])\n",
    "\n",
    "# Get unique dates\n",
    "unique_dates = df['Date'].unique()\n",
    "\n",
    "# Decide how many dates to include in each set\n",
    "train_dates = int(len(unique_dates) * 0.8)\n",
    "\n",
    "# Find the index of the last training date\n",
    "last_train_idx = df[df['Date'] == unique_dates[train_dates]].index[-1]\n",
    "\n",
    "# Now you can create your train and test sets\n",
    "train = df.iloc[:last_train_idx + 1]\n",
    "test = df.iloc[last_train_idx + 1:]\n",
    "\n"
   ]
  },
  {
   "cell_type": "code",
   "execution_count": 4,
   "metadata": {},
   "outputs": [],
   "source": [
    "# Identify categorical columns excluding the date column\n",
    "cat_cols = train.select_dtypes(include=['object']).columns.tolist()\n",
    "\n",
    "# Initialize OneHotEncoder\n",
    "ohe = OneHotEncoder(sparse=True, handle_unknown='ignore')\n",
    "\n",
    "# Fit the OneHotEncoder on the training data and transform both train and test data\n",
    "ohe.fit(train[cat_cols])\n",
    "one_hot_encoded_train = ohe.transform(train[cat_cols])\n",
    "one_hot_encoded_test = ohe.transform(test[cat_cols])\n",
    "\n",
    "# Extract numeric data\n",
    "numeric_data_train = train.drop(cat_cols + ['Date', 'Injury'], axis=1).values\n",
    "numeric_data_test = test.drop(cat_cols + ['Date', 'Injury'], axis=1).values\n",
    "\n",
    "\n",
    "# Combine sparse and dense data\n",
    "final_data_train = sp.hstack((one_hot_encoded_train, numeric_data_train)).tocsr()\n",
    "final_data_test = sp.hstack((one_hot_encoded_test, numeric_data_test)).tocsr()\n",
    "\n",
    "\n",
    "\n",
    "# Set up for cross-validation\n",
    "X = final_data_train\n",
    "y = train[\"Injury\"].values  # replace \"Injury\" with your target column name\n",
    "\n",
    "X_test = final_data_test\n",
    "y_test = test[\"Injury\"].values\n",
    "\n",
    "# Initialize a TimeSeriesSplit object\n",
    "tscv = TimeSeriesSplit(n_splits=5)\n",
    "\n"
   ]
  },
  {
   "cell_type": "code",
   "execution_count": 5,
   "metadata": {},
   "outputs": [
    {
     "name": "stdout",
     "output_type": "stream",
     "text": [
      "Number of rows: 223854\n",
      "Number of columns: 284\n"
     ]
    }
   ],
   "source": [
    "rows, cols = X.shape\n",
    "print(f\"Number of rows: {rows}\")\n",
    "print(f\"Number of columns: {cols}\")\n"
   ]
  },
  {
   "cell_type": "code",
   "execution_count": 8,
   "metadata": {},
   "outputs": [
    {
     "name": "stderr",
     "output_type": "stream",
     "text": [
      "[I 2023-06-27 10:15:14,704] Using an existing study with name 'no-name-286bbea7-b86c-450d-af18-d85fcadd081f' instead of creating a new one.\n"
     ]
    }
   ],
   "source": [
    "def objective(trial):\n",
    "    params = {\n",
    "        'learning_rate': trial.suggest_loguniform('learning_rate', 0.01, 1.0),\n",
    "        'max_depth': trial.suggest_int('max_depth', 3, 10),\n",
    "        'subsample': trial.suggest_uniform('subsample', 0.5, 1.0),\n",
    "        'colsample_bytree': trial.suggest_uniform('colsample_bytree', 0.5, 1.0),\n",
    "        'gamma': trial.suggest_uniform('gamma', 0.0, 1.0),\n",
    "        'objective': 'reg:squarederror',\n",
    "        #'tree_method': 'gpu_hist',  # use GPU-based algorithm\n",
    "        #'gpu_id': 1  # ID of the GPU to use\n",
    "    }\n",
    "\n",
    "    num_boost_round = trial.suggest_int('num_boost_round', 50, 500)\n",
    "    early_stopping_rounds = 50  # Stop if performance hasn't improved for 50 rounds\n",
    "\n",
    "    mse_scores = []\n",
    "    for train_index, val_index in tscv.split(X):\n",
    "        X_train_cv, X_val_cv = X[train_index], X[val_index]\n",
    "        y_train_cv, y_val_cv = y[train_index], y[val_index]\n",
    "\n",
    "        # Convert to DMatrix\n",
    "        dtrain = xgb.DMatrix(X_train_cv, label=y_train_cv)\n",
    "        dval = xgb.DMatrix(X_val_cv, label=y_val_cv)\n",
    "\n",
    "        # Train the model\n",
    "        model = xgb.train(\n",
    "            params, \n",
    "            dtrain,\n",
    "            num_boost_round=num_boost_round,\n",
    "            evals=[(dval, 'eval')],\n",
    "            early_stopping_rounds=early_stopping_rounds,\n",
    "            verbose_eval=False\n",
    "        )\n",
    "        # Predict the validation set\n",
    "        y_pred = model.predict(dval)\n",
    "\n",
    "        mse = mean_squared_error(y_val_cv, y_pred)\n",
    "        mse_scores.append(mse)\n",
    "\n",
    "    return np.mean(mse_scores)\n",
    "\n",
    "# Create a study that uses SQLite storage\n",
    "study = optuna.create_study(direction='minimize', storage='sqlite:///example.db', load_if_exists=True, study_name='no-name-286bbea7-b86c-450d-af18-d85fcadd081f')  \n",
    "\n"
   ]
  },
  {
   "cell_type": "code",
   "execution_count": 9,
   "metadata": {},
   "outputs": [
    {
     "name": "stderr",
     "output_type": "stream",
     "text": [
      "C:\\Users\\felix.wente\\AppData\\Local\\Temp\\ipykernel_7580\\2821873922.py:3: FutureWarning: suggest_loguniform has been deprecated in v3.0.0. This feature will be removed in v6.0.0. See https://github.com/optuna/optuna/releases/tag/v3.0.0. Use suggest_float(..., log=True) instead.\n",
      "  'learning_rate': trial.suggest_loguniform('learning_rate', 0.01, 1.0),\n",
      "C:\\Users\\felix.wente\\AppData\\Local\\Temp\\ipykernel_7580\\2821873922.py:5: FutureWarning: suggest_uniform has been deprecated in v3.0.0. This feature will be removed in v6.0.0. See https://github.com/optuna/optuna/releases/tag/v3.0.0. Use suggest_float instead.\n",
      "  'subsample': trial.suggest_uniform('subsample', 0.5, 1.0),\n",
      "C:\\Users\\felix.wente\\AppData\\Local\\Temp\\ipykernel_7580\\2821873922.py:6: FutureWarning: suggest_uniform has been deprecated in v3.0.0. This feature will be removed in v6.0.0. See https://github.com/optuna/optuna/releases/tag/v3.0.0. Use suggest_float instead.\n",
      "  'colsample_bytree': trial.suggest_uniform('colsample_bytree', 0.5, 1.0),\n",
      "C:\\Users\\felix.wente\\AppData\\Local\\Temp\\ipykernel_7580\\2821873922.py:7: FutureWarning: suggest_uniform has been deprecated in v3.0.0. This feature will be removed in v6.0.0. See https://github.com/optuna/optuna/releases/tag/v3.0.0. Use suggest_float instead.\n",
      "  'gamma': trial.suggest_uniform('gamma', 0.0, 1.0),\n",
      "[I 2023-06-27 10:15:48,167] Trial 203 finished with value: 0.1109586194139252 and parameters: {'colsample_bytree': 0.9252266514291031, 'gamma': 0.869738821040895, 'learning_rate': 0.3569477870408373, 'max_depth': 8, 'num_boost_round': 286, 'subsample': 0.5796185659210735}. Best is trial 110 with value: 0.06302794964233924.\n",
      "C:\\Users\\felix.wente\\AppData\\Local\\Temp\\ipykernel_7580\\2821873922.py:3: FutureWarning: suggest_loguniform has been deprecated in v3.0.0. This feature will be removed in v6.0.0. See https://github.com/optuna/optuna/releases/tag/v3.0.0. Use suggest_float(..., log=True) instead.\n",
      "  'learning_rate': trial.suggest_loguniform('learning_rate', 0.01, 1.0),\n",
      "C:\\Users\\felix.wente\\AppData\\Local\\Temp\\ipykernel_7580\\2821873922.py:5: FutureWarning: suggest_uniform has been deprecated in v3.0.0. This feature will be removed in v6.0.0. See https://github.com/optuna/optuna/releases/tag/v3.0.0. Use suggest_float instead.\n",
      "  'subsample': trial.suggest_uniform('subsample', 0.5, 1.0),\n",
      "C:\\Users\\felix.wente\\AppData\\Local\\Temp\\ipykernel_7580\\2821873922.py:6: FutureWarning: suggest_uniform has been deprecated in v3.0.0. This feature will be removed in v6.0.0. See https://github.com/optuna/optuna/releases/tag/v3.0.0. Use suggest_float instead.\n",
      "  'colsample_bytree': trial.suggest_uniform('colsample_bytree', 0.5, 1.0),\n",
      "C:\\Users\\felix.wente\\AppData\\Local\\Temp\\ipykernel_7580\\2821873922.py:7: FutureWarning: suggest_uniform has been deprecated in v3.0.0. This feature will be removed in v6.0.0. See https://github.com/optuna/optuna/releases/tag/v3.0.0. Use suggest_float instead.\n",
      "  'gamma': trial.suggest_uniform('gamma', 0.0, 1.0),\n",
      "[W 2023-06-27 10:15:50,470] Trial 204 failed with parameters: {'colsample_bytree': 0.9149842693449334, 'gamma': 0.8398506620302726, 'learning_rate': 0.38633665446003407, 'max_depth': 8, 'num_boost_round': 295, 'subsample': 0.5710682209408041} because of the following error: KeyboardInterrupt().\n",
      "Traceback (most recent call last):\n",
      "  File \"c:\\Users\\felix.wente\\anaconda3\\envs\\cuda_env\\lib\\site-packages\\optuna\\study\\_optimize.py\", line 200, in _run_trial\n",
      "    value_or_values = func(trial)\n",
      "  File \"C:\\Users\\felix.wente\\AppData\\Local\\Temp\\ipykernel_7580\\2821873922.py\", line 26, in objective\n",
      "    model = xgb.train(\n",
      "  File \"c:\\Users\\felix.wente\\anaconda3\\envs\\cuda_env\\lib\\site-packages\\xgboost\\core.py\", line 620, in inner_f\n",
      "    return func(**kwargs)\n",
      "  File \"c:\\Users\\felix.wente\\anaconda3\\envs\\cuda_env\\lib\\site-packages\\xgboost\\training.py\", line 185, in train\n",
      "    bst.update(dtrain, i, obj)\n",
      "  File \"c:\\Users\\felix.wente\\anaconda3\\envs\\cuda_env\\lib\\site-packages\\xgboost\\core.py\", line 1918, in update\n",
      "    _check_call(_LIB.XGBoosterUpdateOneIter(self.handle,\n",
      "KeyboardInterrupt\n",
      "[W 2023-06-27 10:15:50,471] Trial 204 failed with value None.\n"
     ]
    },
    {
     "ename": "KeyboardInterrupt",
     "evalue": "",
     "output_type": "error",
     "traceback": [
      "\u001b[1;31m---------------------------------------------------------------------------\u001b[0m",
      "\u001b[1;31mKeyboardInterrupt\u001b[0m                         Traceback (most recent call last)",
      "\u001b[1;32mc:\\Users\\felix.wente\\Github\\volleyball_injuries\\xgboost.ipynb Cell 7\u001b[0m in \u001b[0;36m<cell line: 2>\u001b[1;34m()\u001b[0m\n\u001b[0;32m      <a href='vscode-notebook-cell:/c%3A/Users/felix.wente/Github/volleyball_injuries/xgboost.ipynb#W6sZmlsZQ%3D%3D?line=0'>1</a>\u001b[0m \u001b[39m# Optimize the study\u001b[39;00m\n\u001b[1;32m----> <a href='vscode-notebook-cell:/c%3A/Users/felix.wente/Github/volleyball_injuries/xgboost.ipynb#W6sZmlsZQ%3D%3D?line=1'>2</a>\u001b[0m study\u001b[39m.\u001b[39;49moptimize(objective, n_trials\u001b[39m=\u001b[39;49m\u001b[39m100\u001b[39;49m, catch\u001b[39m=\u001b[39;49m(\u001b[39mException\u001b[39;49;00m,))\n",
      "File \u001b[1;32mc:\\Users\\felix.wente\\anaconda3\\envs\\cuda_env\\lib\\site-packages\\optuna\\study\\study.py:443\u001b[0m, in \u001b[0;36mStudy.optimize\u001b[1;34m(self, func, n_trials, timeout, n_jobs, catch, callbacks, gc_after_trial, show_progress_bar)\u001b[0m\n\u001b[0;32m    339\u001b[0m \u001b[39mdef\u001b[39;00m \u001b[39moptimize\u001b[39m(\n\u001b[0;32m    340\u001b[0m     \u001b[39mself\u001b[39m,\n\u001b[0;32m    341\u001b[0m     func: ObjectiveFuncType,\n\u001b[1;32m   (...)\u001b[0m\n\u001b[0;32m    348\u001b[0m     show_progress_bar: \u001b[39mbool\u001b[39m \u001b[39m=\u001b[39m \u001b[39mFalse\u001b[39;00m,\n\u001b[0;32m    349\u001b[0m ) \u001b[39m-\u001b[39m\u001b[39m>\u001b[39m \u001b[39mNone\u001b[39;00m:\n\u001b[0;32m    350\u001b[0m     \u001b[39m\"\"\"Optimize an objective function.\u001b[39;00m\n\u001b[0;32m    351\u001b[0m \n\u001b[0;32m    352\u001b[0m \u001b[39m    Optimization is done by choosing a suitable set of hyperparameter values from a given\u001b[39;00m\n\u001b[1;32m   (...)\u001b[0m\n\u001b[0;32m    440\u001b[0m \u001b[39m            If nested invocation of this method occurs.\u001b[39;00m\n\u001b[0;32m    441\u001b[0m \u001b[39m    \"\"\"\u001b[39;00m\n\u001b[1;32m--> 443\u001b[0m     _optimize(\n\u001b[0;32m    444\u001b[0m         study\u001b[39m=\u001b[39;49m\u001b[39mself\u001b[39;49m,\n\u001b[0;32m    445\u001b[0m         func\u001b[39m=\u001b[39;49mfunc,\n\u001b[0;32m    446\u001b[0m         n_trials\u001b[39m=\u001b[39;49mn_trials,\n\u001b[0;32m    447\u001b[0m         timeout\u001b[39m=\u001b[39;49mtimeout,\n\u001b[0;32m    448\u001b[0m         n_jobs\u001b[39m=\u001b[39;49mn_jobs,\n\u001b[0;32m    449\u001b[0m         catch\u001b[39m=\u001b[39;49m\u001b[39mtuple\u001b[39;49m(catch) \u001b[39mif\u001b[39;49;00m \u001b[39misinstance\u001b[39;49m(catch, Iterable) \u001b[39melse\u001b[39;49;00m (catch,),\n\u001b[0;32m    450\u001b[0m         callbacks\u001b[39m=\u001b[39;49mcallbacks,\n\u001b[0;32m    451\u001b[0m         gc_after_trial\u001b[39m=\u001b[39;49mgc_after_trial,\n\u001b[0;32m    452\u001b[0m         show_progress_bar\u001b[39m=\u001b[39;49mshow_progress_bar,\n\u001b[0;32m    453\u001b[0m     )\n",
      "File \u001b[1;32mc:\\Users\\felix.wente\\anaconda3\\envs\\cuda_env\\lib\\site-packages\\optuna\\study\\_optimize.py:66\u001b[0m, in \u001b[0;36m_optimize\u001b[1;34m(study, func, n_trials, timeout, n_jobs, catch, callbacks, gc_after_trial, show_progress_bar)\u001b[0m\n\u001b[0;32m     64\u001b[0m \u001b[39mtry\u001b[39;00m:\n\u001b[0;32m     65\u001b[0m     \u001b[39mif\u001b[39;00m n_jobs \u001b[39m==\u001b[39m \u001b[39m1\u001b[39m:\n\u001b[1;32m---> 66\u001b[0m         _optimize_sequential(\n\u001b[0;32m     67\u001b[0m             study,\n\u001b[0;32m     68\u001b[0m             func,\n\u001b[0;32m     69\u001b[0m             n_trials,\n\u001b[0;32m     70\u001b[0m             timeout,\n\u001b[0;32m     71\u001b[0m             catch,\n\u001b[0;32m     72\u001b[0m             callbacks,\n\u001b[0;32m     73\u001b[0m             gc_after_trial,\n\u001b[0;32m     74\u001b[0m             reseed_sampler_rng\u001b[39m=\u001b[39;49m\u001b[39mFalse\u001b[39;49;00m,\n\u001b[0;32m     75\u001b[0m             time_start\u001b[39m=\u001b[39;49m\u001b[39mNone\u001b[39;49;00m,\n\u001b[0;32m     76\u001b[0m             progress_bar\u001b[39m=\u001b[39;49mprogress_bar,\n\u001b[0;32m     77\u001b[0m         )\n\u001b[0;32m     78\u001b[0m     \u001b[39melse\u001b[39;00m:\n\u001b[0;32m     79\u001b[0m         \u001b[39mif\u001b[39;00m n_jobs \u001b[39m==\u001b[39m \u001b[39m-\u001b[39m\u001b[39m1\u001b[39m:\n",
      "File \u001b[1;32mc:\\Users\\felix.wente\\anaconda3\\envs\\cuda_env\\lib\\site-packages\\optuna\\study\\_optimize.py:163\u001b[0m, in \u001b[0;36m_optimize_sequential\u001b[1;34m(study, func, n_trials, timeout, catch, callbacks, gc_after_trial, reseed_sampler_rng, time_start, progress_bar)\u001b[0m\n\u001b[0;32m    160\u001b[0m         \u001b[39mbreak\u001b[39;00m\n\u001b[0;32m    162\u001b[0m \u001b[39mtry\u001b[39;00m:\n\u001b[1;32m--> 163\u001b[0m     frozen_trial \u001b[39m=\u001b[39m _run_trial(study, func, catch)\n\u001b[0;32m    164\u001b[0m \u001b[39mfinally\u001b[39;00m:\n\u001b[0;32m    165\u001b[0m     \u001b[39m# The following line mitigates memory problems that can be occurred in some\u001b[39;00m\n\u001b[0;32m    166\u001b[0m     \u001b[39m# environments (e.g., services that use computing containers such as GitHub Actions).\u001b[39;00m\n\u001b[0;32m    167\u001b[0m     \u001b[39m# Please refer to the following PR for further details:\u001b[39;00m\n\u001b[0;32m    168\u001b[0m     \u001b[39m# https://github.com/optuna/optuna/pull/325.\u001b[39;00m\n\u001b[0;32m    169\u001b[0m     \u001b[39mif\u001b[39;00m gc_after_trial:\n",
      "File \u001b[1;32mc:\\Users\\felix.wente\\anaconda3\\envs\\cuda_env\\lib\\site-packages\\optuna\\study\\_optimize.py:251\u001b[0m, in \u001b[0;36m_run_trial\u001b[1;34m(study, func, catch)\u001b[0m\n\u001b[0;32m    244\u001b[0m         \u001b[39massert\u001b[39;00m \u001b[39mFalse\u001b[39;00m, \u001b[39m\"\u001b[39m\u001b[39mShould not reach.\u001b[39m\u001b[39m\"\u001b[39m\n\u001b[0;32m    246\u001b[0m \u001b[39mif\u001b[39;00m (\n\u001b[0;32m    247\u001b[0m     frozen_trial\u001b[39m.\u001b[39mstate \u001b[39m==\u001b[39m TrialState\u001b[39m.\u001b[39mFAIL\n\u001b[0;32m    248\u001b[0m     \u001b[39mand\u001b[39;00m func_err \u001b[39mis\u001b[39;00m \u001b[39mnot\u001b[39;00m \u001b[39mNone\u001b[39;00m\n\u001b[0;32m    249\u001b[0m     \u001b[39mand\u001b[39;00m \u001b[39mnot\u001b[39;00m \u001b[39misinstance\u001b[39m(func_err, catch)\n\u001b[0;32m    250\u001b[0m ):\n\u001b[1;32m--> 251\u001b[0m     \u001b[39mraise\u001b[39;00m func_err\n\u001b[0;32m    252\u001b[0m \u001b[39mreturn\u001b[39;00m frozen_trial\n",
      "File \u001b[1;32mc:\\Users\\felix.wente\\anaconda3\\envs\\cuda_env\\lib\\site-packages\\optuna\\study\\_optimize.py:200\u001b[0m, in \u001b[0;36m_run_trial\u001b[1;34m(study, func, catch)\u001b[0m\n\u001b[0;32m    198\u001b[0m \u001b[39mwith\u001b[39;00m get_heartbeat_thread(trial\u001b[39m.\u001b[39m_trial_id, study\u001b[39m.\u001b[39m_storage):\n\u001b[0;32m    199\u001b[0m     \u001b[39mtry\u001b[39;00m:\n\u001b[1;32m--> 200\u001b[0m         value_or_values \u001b[39m=\u001b[39m func(trial)\n\u001b[0;32m    201\u001b[0m     \u001b[39mexcept\u001b[39;00m exceptions\u001b[39m.\u001b[39mTrialPruned \u001b[39mas\u001b[39;00m e:\n\u001b[0;32m    202\u001b[0m         \u001b[39m# TODO(mamu): Handle multi-objective cases.\u001b[39;00m\n\u001b[0;32m    203\u001b[0m         state \u001b[39m=\u001b[39m TrialState\u001b[39m.\u001b[39mPRUNED\n",
      "\u001b[1;32mc:\\Users\\felix.wente\\Github\\volleyball_injuries\\xgboost.ipynb Cell 7\u001b[0m in \u001b[0;36mobjective\u001b[1;34m(trial)\u001b[0m\n\u001b[0;32m     <a href='vscode-notebook-cell:/c%3A/Users/felix.wente/Github/volleyball_injuries/xgboost.ipynb#W6sZmlsZQ%3D%3D?line=22'>23</a>\u001b[0m dval \u001b[39m=\u001b[39m xgb\u001b[39m.\u001b[39mDMatrix(X_val_cv, label\u001b[39m=\u001b[39my_val_cv)\n\u001b[0;32m     <a href='vscode-notebook-cell:/c%3A/Users/felix.wente/Github/volleyball_injuries/xgboost.ipynb#W6sZmlsZQ%3D%3D?line=24'>25</a>\u001b[0m \u001b[39m# Train the model\u001b[39;00m\n\u001b[1;32m---> <a href='vscode-notebook-cell:/c%3A/Users/felix.wente/Github/volleyball_injuries/xgboost.ipynb#W6sZmlsZQ%3D%3D?line=25'>26</a>\u001b[0m model \u001b[39m=\u001b[39m xgb\u001b[39m.\u001b[39;49mtrain(\n\u001b[0;32m     <a href='vscode-notebook-cell:/c%3A/Users/felix.wente/Github/volleyball_injuries/xgboost.ipynb#W6sZmlsZQ%3D%3D?line=26'>27</a>\u001b[0m     params, \n\u001b[0;32m     <a href='vscode-notebook-cell:/c%3A/Users/felix.wente/Github/volleyball_injuries/xgboost.ipynb#W6sZmlsZQ%3D%3D?line=27'>28</a>\u001b[0m     dtrain,\n\u001b[0;32m     <a href='vscode-notebook-cell:/c%3A/Users/felix.wente/Github/volleyball_injuries/xgboost.ipynb#W6sZmlsZQ%3D%3D?line=28'>29</a>\u001b[0m     num_boost_round\u001b[39m=\u001b[39;49mnum_boost_round,\n\u001b[0;32m     <a href='vscode-notebook-cell:/c%3A/Users/felix.wente/Github/volleyball_injuries/xgboost.ipynb#W6sZmlsZQ%3D%3D?line=29'>30</a>\u001b[0m     evals\u001b[39m=\u001b[39;49m[(dval, \u001b[39m'\u001b[39;49m\u001b[39meval\u001b[39;49m\u001b[39m'\u001b[39;49m)],\n\u001b[0;32m     <a href='vscode-notebook-cell:/c%3A/Users/felix.wente/Github/volleyball_injuries/xgboost.ipynb#W6sZmlsZQ%3D%3D?line=30'>31</a>\u001b[0m     early_stopping_rounds\u001b[39m=\u001b[39;49mearly_stopping_rounds,\n\u001b[0;32m     <a href='vscode-notebook-cell:/c%3A/Users/felix.wente/Github/volleyball_injuries/xgboost.ipynb#W6sZmlsZQ%3D%3D?line=31'>32</a>\u001b[0m     verbose_eval\u001b[39m=\u001b[39;49m\u001b[39mFalse\u001b[39;49;00m\n\u001b[0;32m     <a href='vscode-notebook-cell:/c%3A/Users/felix.wente/Github/volleyball_injuries/xgboost.ipynb#W6sZmlsZQ%3D%3D?line=32'>33</a>\u001b[0m )\n\u001b[0;32m     <a href='vscode-notebook-cell:/c%3A/Users/felix.wente/Github/volleyball_injuries/xgboost.ipynb#W6sZmlsZQ%3D%3D?line=33'>34</a>\u001b[0m \u001b[39m# Predict the validation set\u001b[39;00m\n\u001b[0;32m     <a href='vscode-notebook-cell:/c%3A/Users/felix.wente/Github/volleyball_injuries/xgboost.ipynb#W6sZmlsZQ%3D%3D?line=34'>35</a>\u001b[0m y_pred \u001b[39m=\u001b[39m model\u001b[39m.\u001b[39mpredict(dval)\n",
      "File \u001b[1;32mc:\\Users\\felix.wente\\anaconda3\\envs\\cuda_env\\lib\\site-packages\\xgboost\\core.py:620\u001b[0m, in \u001b[0;36mrequire_keyword_args.<locals>.throw_if.<locals>.inner_f\u001b[1;34m(*args, **kwargs)\u001b[0m\n\u001b[0;32m    618\u001b[0m \u001b[39mfor\u001b[39;00m k, arg \u001b[39min\u001b[39;00m \u001b[39mzip\u001b[39m(sig\u001b[39m.\u001b[39mparameters, args):\n\u001b[0;32m    619\u001b[0m     kwargs[k] \u001b[39m=\u001b[39m arg\n\u001b[1;32m--> 620\u001b[0m \u001b[39mreturn\u001b[39;00m func(\u001b[39m*\u001b[39m\u001b[39m*\u001b[39mkwargs)\n",
      "File \u001b[1;32mc:\\Users\\felix.wente\\anaconda3\\envs\\cuda_env\\lib\\site-packages\\xgboost\\training.py:185\u001b[0m, in \u001b[0;36mtrain\u001b[1;34m(params, dtrain, num_boost_round, evals, obj, feval, maximize, early_stopping_rounds, evals_result, verbose_eval, xgb_model, callbacks, custom_metric)\u001b[0m\n\u001b[0;32m    183\u001b[0m \u001b[39mif\u001b[39;00m cb_container\u001b[39m.\u001b[39mbefore_iteration(bst, i, dtrain, evals):\n\u001b[0;32m    184\u001b[0m     \u001b[39mbreak\u001b[39;00m\n\u001b[1;32m--> 185\u001b[0m bst\u001b[39m.\u001b[39;49mupdate(dtrain, i, obj)\n\u001b[0;32m    186\u001b[0m \u001b[39mif\u001b[39;00m cb_container\u001b[39m.\u001b[39mafter_iteration(bst, i, dtrain, evals):\n\u001b[0;32m    187\u001b[0m     \u001b[39mbreak\u001b[39;00m\n",
      "File \u001b[1;32mc:\\Users\\felix.wente\\anaconda3\\envs\\cuda_env\\lib\\site-packages\\xgboost\\core.py:1918\u001b[0m, in \u001b[0;36mBooster.update\u001b[1;34m(self, dtrain, iteration, fobj)\u001b[0m\n\u001b[0;32m   1915\u001b[0m \u001b[39mself\u001b[39m\u001b[39m.\u001b[39m_validate_dmatrix_features(dtrain)\n\u001b[0;32m   1917\u001b[0m \u001b[39mif\u001b[39;00m fobj \u001b[39mis\u001b[39;00m \u001b[39mNone\u001b[39;00m:\n\u001b[1;32m-> 1918\u001b[0m     _check_call(_LIB\u001b[39m.\u001b[39;49mXGBoosterUpdateOneIter(\u001b[39mself\u001b[39;49m\u001b[39m.\u001b[39;49mhandle,\n\u001b[0;32m   1919\u001b[0m                                             ctypes\u001b[39m.\u001b[39;49mc_int(iteration),\n\u001b[0;32m   1920\u001b[0m                                             dtrain\u001b[39m.\u001b[39;49mhandle))\n\u001b[0;32m   1921\u001b[0m \u001b[39melse\u001b[39;00m:\n\u001b[0;32m   1922\u001b[0m     pred \u001b[39m=\u001b[39m \u001b[39mself\u001b[39m\u001b[39m.\u001b[39mpredict(dtrain, output_margin\u001b[39m=\u001b[39m\u001b[39mTrue\u001b[39;00m, training\u001b[39m=\u001b[39m\u001b[39mTrue\u001b[39;00m)\n",
      "\u001b[1;31mKeyboardInterrupt\u001b[0m: "
     ]
    }
   ],
   "source": [
    "\n",
    "# Optimize the study\n",
    "study.optimize(objective, n_trials=100, catch=(Exception,))"
   ]
  },
  {
   "cell_type": "code",
   "execution_count": 10,
   "metadata": {},
   "outputs": [
    {
     "name": "stdout",
     "output_type": "stream",
     "text": [
      "[10:15:54] WARNING: C:\\Users\\dev-admin\\croot2\\xgboost-split_1675461376218\\work\\src\\learner.cc:767: \n",
      "Parameters: { \"num_boost_round\" } are not used.\n",
      "\n",
      "[0]\ttrain-rmse:5.72877\n",
      "[1]\ttrain-rmse:3.64076\n",
      "[2]\ttrain-rmse:2.31379\n",
      "[3]\ttrain-rmse:1.47047\n",
      "[4]\ttrain-rmse:0.93454\n",
      "[5]\ttrain-rmse:0.59399\n",
      "[6]\ttrain-rmse:0.37755\n",
      "[7]\ttrain-rmse:0.24004\n",
      "[8]\ttrain-rmse:0.15268\n",
      "[9]\ttrain-rmse:0.09721\n",
      "Mean squared error on the test data:  0.008485045295997683\n"
     ]
    }
   ],
   "source": [
    "# Extract the best parameters\n",
    "best_params = study.best_params\n",
    "\n",
    "\n",
    "\n",
    "\n",
    "early_stopping_rounds = 50 # Stop if performance hasn't improved for 50 rounds\n",
    "\n",
    "# Prepare the DMatrix format for the entire training data and test data\n",
    "dtrain_full = xgb.DMatrix(X, label=y)\n",
    "dtest = xgb.DMatrix(X_test, label=y_test)  # Ensure X_test and y_test are prepared\n",
    "\n",
    "# Train the model with the best parameters on the training data\n",
    "final_model = xgb.train(\n",
    "    best_params, \n",
    "    dtrain_full, \n",
    "    early_stopping_rounds=early_stopping_rounds,\n",
    "    evals=[(dtrain_full, 'train')],\n",
    "    verbose_eval=True \n",
    "    \n",
    ")\n",
    "\n",
    "# Make predictions on the test data\n",
    "predictions_test = final_model.predict(dtest)\n",
    "\n",
    "# Calculate mean squared error on the test data\n",
    "mse_test = mean_squared_error(y_test, predictions_test)\n",
    "\n",
    "print(\"Mean squared error on the test data: \", mse_test)\n",
    "\n",
    "\n"
   ]
  },
  {
   "cell_type": "code",
   "execution_count": 11,
   "metadata": {},
   "outputs": [
    {
     "data": {
      "text/plain": [
       "{'colsample_bytree': 0.9165498070846373,\n",
       " 'gamma': 0.770691118039721,\n",
       " 'learning_rate': 0.36449164747442575,\n",
       " 'max_depth': 8,\n",
       " 'num_boost_round': 367,\n",
       " 'subsample': 0.5948698632120203}"
      ]
     },
     "execution_count": 11,
     "metadata": {},
     "output_type": "execute_result"
    }
   ],
   "source": [
    "best_params"
   ]
  },
  {
   "cell_type": "code",
   "execution_count": 12,
   "metadata": {},
   "outputs": [
    {
     "data": {
      "image/png": "[encoded data removed]",
      "text/plain": [
       "<Figure size 720x432 with 1 Axes>"
      ]
     },
     "metadata": {
      "needs_background": "light"
     },
     "output_type": "display_data"
    }
   ],
   "source": [
    "# Assuming 'df' is your DataFrame containing the 'Date' and 'Injury' columns\n",
    "plt.figure(figsize=(10, 6))\n",
    "plt.plot(df['Date'], df['Injury'], marker='o', linestyle=':', color='blue')\n",
    "\n",
    "# Calculating the cutoff date at 80% of the data\n",
    "cutoff_percentage = 0.8\n",
    "cutoff_index = int(len(df) * cutoff_percentage)\n",
    "cutoff_date = df['Date'].iloc[cutoff_index]\n",
    "\n",
    "# Adding the vertical red dotted line at the cutoff date\n",
    "plt.axvline(x=cutoff_date, color='red', linestyle='--')\n",
    "\n",
    "plt.title('Injury Over Time')\n",
    "plt.xlabel('Date')\n",
    "plt.ylabel('Injury')\n",
    "plt.show()"
   ]
  },
  {
   "cell_type": "code",
   "execution_count": 13,
   "metadata": {},
   "outputs": [
    {
     "data": {
      "image/png": "[encoded data removed]",
      "text/plain": [
       "<Figure size 432x288 with 1 Axes>"
      ]
     },
     "metadata": {
      "needs_background": "light"
     },
     "output_type": "display_data"
    }
   ],
   "source": [
    "\n",
    "\n",
    "# Let's plot the feature importance\n",
    "xgb.plot_importance(final_model)\n",
    "plt.rcParams['figure.figsize'] = [10, 10]\n",
    "plt.show()\n"
   ]
  },
  {
   "cell_type": "code",
   "execution_count": null,
   "metadata": {},
   "outputs": [],
   "source": [
    "# Get one-hot encoded feature names\n",
    "ohe_feature_names = ohe.get_feature_names_out(cat_cols)\n",
    "\n",
    "# Get numeric feature names\n",
    "numeric_feature_names = train.drop(cat_cols + ['Date'], axis=1).columns\n",
    "\n",
    "# Combine both lists\n",
    "all_feature_names = np.concatenate([ohe_feature_names, numeric_feature_names])\n",
    "\n",
    "# Now you can find the original feature name for a given index\n",
    "print(all_feature_names[211])\n"
   ]
  },
  {
   "cell_type": "markdown",
   "metadata": {},
   "source": [
    "# Elastic Net"
   ]
  },
  {
   "cell_type": "code",
   "execution_count": null,
   "metadata": {},
   "outputs": [
    {
     "name": "stderr",
     "output_type": "stream",
     "text": [
      "[I 2023-06-23 20:22:52,311] Using an existing study with name 'ElasticNet' instead of creating a new one.\n"
     ]
    }
   ],
   "source": [
    "def elastic_net_objective(trial):\n",
    "    # Define hyperparameters space\n",
    "    alpha = trial.suggest_loguniform('alpha', 1e-3, 10.0)\n",
    "    l1_ratio = trial.suggest_uniform('l1_ratio', 0.0, 1.0)\n",
    "\n",
    "    model = ElasticNet(alpha=alpha, l1_ratio=l1_ratio)\n",
    "\n",
    "\n",
    "    mse_scores = []\n",
    "    for train_index, val_index in tscv.split(X):\n",
    "        X_train_cv, X_val_cv = X[train_index], X[val_index]\n",
    "        y_train_cv, y_val_cv = y[train_index], y[val_index]\n",
    "\n",
    "        # Fit the model\n",
    "        model.fit(X_train_cv, y_train_cv)\n",
    "\n",
    "        # Predict the validation set\n",
    "        y_pred = model.predict(X_val_cv)\n",
    "\n",
    "        mse = mean_squared_error(y_val_cv, y_pred)\n",
    "        mse_scores.append(mse)\n",
    "\n",
    "    return np.mean(mse_scores)\n",
    "\n",
    "# Create a new Optuna study for the ElasticNet model\n",
    "elastic_net_study = optuna.create_study(direction='minimize', study_name='ElasticNet',\n",
    "                                        storage='sqlite:///ENet.db', load_if_exists=True)"
   ]
  },
  {
   "cell_type": "code",
   "execution_count": null,
   "metadata": {},
   "outputs": [
    {
     "name": "stderr",
     "output_type": "stream",
     "text": [
      "C:\\Users\\felix.wente\\AppData\\Local\\Temp\\ipykernel_23820\\3019276402.py:3: FutureWarning: suggest_loguniform has been deprecated in v3.0.0. This feature will be removed in v6.0.0. See https://github.com/optuna/optuna/releases/tag/v3.0.0. Use suggest_float(..., log=True) instead.\n",
      "  alpha = trial.suggest_loguniform('alpha', 1e-3, 10.0)\n",
      "C:\\Users\\felix.wente\\AppData\\Local\\Temp\\ipykernel_23820\\3019276402.py:4: FutureWarning: suggest_uniform has been deprecated in v3.0.0. This feature will be removed in v6.0.0. See https://github.com/optuna/optuna/releases/tag/v3.0.0. Use suggest_float instead.\n",
      "  l1_ratio = trial.suggest_uniform('l1_ratio', 0.0, 1.0)\n",
      "[W 2023-06-23 20:23:15,172] Trial 2 failed with parameters: {'alpha': 0.05169539606340539, 'l1_ratio': 0.5806129329945285} because of the following error: ValueError('Input X contains NaN.\\nElasticNet does not accept missing values encoded as NaN natively. For supervised learning, you might want to consider sklearn.ensemble.HistGradientBoostingClassifier and Regressor which accept missing values encoded as NaNs natively. Alternatively, it is possible to preprocess the data, for instance by using an imputer transformer in a pipeline or drop samples with missing values. See https://scikit-learn.org/stable/modules/impute.html You can find a list of all estimators that handle NaN values at the following page: https://scikit-learn.org/stable/modules/impute.html#estimators-that-handle-nan-values').\n",
      "Traceback (most recent call last):\n",
      "  File \"c:\\Users\\felix.wente\\anaconda3\\envs\\cuda_env\\lib\\site-packages\\optuna\\study\\_optimize.py\", line 200, in _run_trial\n",
      "    value_or_values = func(trial)\n",
      "  File \"C:\\Users\\felix.wente\\AppData\\Local\\Temp\\ipykernel_23820\\3019276402.py\", line 15, in elastic_net_objective\n",
      "    model.fit(X_train_cv, y_train_cv)\n",
      "  File \"c:\\Users\\felix.wente\\anaconda3\\envs\\cuda_env\\lib\\site-packages\\sklearn\\linear_model\\_coordinate_descent.py\", line 955, in fit\n",
      "    X, y = self._validate_data(\n",
      "  File \"c:\\Users\\felix.wente\\anaconda3\\envs\\cuda_env\\lib\\site-packages\\sklearn\\base.py\", line 596, in _validate_data\n",
      "    X, y = check_X_y(X, y, **check_params)\n",
      "  File \"c:\\Users\\felix.wente\\anaconda3\\envs\\cuda_env\\lib\\site-packages\\sklearn\\utils\\validation.py\", line 1074, in check_X_y\n",
      "    X = check_array(\n",
      "  File \"c:\\Users\\felix.wente\\anaconda3\\envs\\cuda_env\\lib\\site-packages\\sklearn\\utils\\validation.py\", line 822, in check_array\n",
      "    array = _ensure_sparse_format(\n",
      "  File \"c:\\Users\\felix.wente\\anaconda3\\envs\\cuda_env\\lib\\site-packages\\sklearn\\utils\\validation.py\", line 551, in _ensure_sparse_format\n",
      "    _assert_all_finite(\n",
      "  File \"c:\\Users\\felix.wente\\anaconda3\\envs\\cuda_env\\lib\\site-packages\\sklearn\\utils\\validation.py\", line 146, in _assert_all_finite\n",
      "    raise ValueError(msg_err)\n",
      "ValueError: Input X contains NaN.\n",
      "ElasticNet does not accept missing values encoded as NaN natively. For supervised learning, you might want to consider sklearn.ensemble.HistGradientBoostingClassifier and Regressor which accept missing values encoded as NaNs natively. Alternatively, it is possible to preprocess the data, for instance by using an imputer transformer in a pipeline or drop samples with missing values. See https://scikit-learn.org/stable/modules/impute.html You can find a list of all estimators that handle NaN values at the following page: https://scikit-learn.org/stable/modules/impute.html#estimators-that-handle-nan-values\n",
      "[W 2023-06-23 20:23:15,177] Trial 2 failed with value None.\n"
     ]
    },
    {
     "ename": "ValueError",
     "evalue": "Input X contains NaN.\nElasticNet does not accept missing values encoded as NaN natively. For supervised learning, you might want to consider sklearn.ensemble.HistGradientBoostingClassifier and Regressor which accept missing values encoded as NaNs natively. Alternatively, it is possible to preprocess the data, for instance by using an imputer transformer in a pipeline or drop samples with missing values. See https://scikit-learn.org/stable/modules/impute.html You can find a list of all estimators that handle NaN values at the following page: https://scikit-learn.org/stable/modules/impute.html#estimators-that-handle-nan-values",
     "output_type": "error",
     "traceback": [
      "\u001b[1;31m---------------------------------------------------------------------------\u001b[0m",
      "\u001b[1;31mValueError\u001b[0m                                Traceback (most recent call last)",
      "\u001b[1;32mc:\\Users\\felix.wente\\Github\\volleyball_injuries\\xgboost.ipynb Cell 15\u001b[0m in \u001b[0;36m<cell line: 1>\u001b[1;34m()\u001b[0m\n\u001b[1;32m----> <a href='vscode-notebook-cell:/c%3A/Users/felix.wente/Github/volleyball_injuries/xgboost.ipynb#X40sZmlsZQ%3D%3D?line=0'>1</a>\u001b[0m elastic_net_study\u001b[39m.\u001b[39;49moptimize(elastic_net_objective, n_trials\u001b[39m=\u001b[39;49m\u001b[39m200\u001b[39;49m)\n",
      "File \u001b[1;32mc:\\Users\\felix.wente\\anaconda3\\envs\\cuda_env\\lib\\site-packages\\optuna\\study\\study.py:443\u001b[0m, in \u001b[0;36mStudy.optimize\u001b[1;34m(self, func, n_trials, timeout, n_jobs, catch, callbacks, gc_after_trial, show_progress_bar)\u001b[0m\n\u001b[0;32m    339\u001b[0m \u001b[39mdef\u001b[39;00m \u001b[39moptimize\u001b[39m(\n\u001b[0;32m    340\u001b[0m     \u001b[39mself\u001b[39m,\n\u001b[0;32m    341\u001b[0m     func: ObjectiveFuncType,\n\u001b[1;32m   (...)\u001b[0m\n\u001b[0;32m    348\u001b[0m     show_progress_bar: \u001b[39mbool\u001b[39m \u001b[39m=\u001b[39m \u001b[39mFalse\u001b[39;00m,\n\u001b[0;32m    349\u001b[0m ) \u001b[39m-\u001b[39m\u001b[39m>\u001b[39m \u001b[39mNone\u001b[39;00m:\n\u001b[0;32m    350\u001b[0m     \u001b[39m\"\"\"Optimize an objective function.\u001b[39;00m\n\u001b[0;32m    351\u001b[0m \n\u001b[0;32m    352\u001b[0m \u001b[39m    Optimization is done by choosing a suitable set of hyperparameter values from a given\u001b[39;00m\n\u001b[1;32m   (...)\u001b[0m\n\u001b[0;32m    440\u001b[0m \u001b[39m            If nested invocation of this method occurs.\u001b[39;00m\n\u001b[0;32m    441\u001b[0m \u001b[39m    \"\"\"\u001b[39;00m\n\u001b[1;32m--> 443\u001b[0m     _optimize(\n\u001b[0;32m    444\u001b[0m         study\u001b[39m=\u001b[39;49m\u001b[39mself\u001b[39;49m,\n\u001b[0;32m    445\u001b[0m         func\u001b[39m=\u001b[39;49mfunc,\n\u001b[0;32m    446\u001b[0m         n_trials\u001b[39m=\u001b[39;49mn_trials,\n\u001b[0;32m    447\u001b[0m         timeout\u001b[39m=\u001b[39;49mtimeout,\n\u001b[0;32m    448\u001b[0m         n_jobs\u001b[39m=\u001b[39;49mn_jobs,\n\u001b[0;32m    449\u001b[0m         catch\u001b[39m=\u001b[39;49m\u001b[39mtuple\u001b[39;49m(catch) \u001b[39mif\u001b[39;49;00m \u001b[39misinstance\u001b[39;49m(catch, Iterable) \u001b[39melse\u001b[39;49;00m (catch,),\n\u001b[0;32m    450\u001b[0m         callbacks\u001b[39m=\u001b[39;49mcallbacks,\n\u001b[0;32m    451\u001b[0m         gc_after_trial\u001b[39m=\u001b[39;49mgc_after_trial,\n\u001b[0;32m    452\u001b[0m         show_progress_bar\u001b[39m=\u001b[39;49mshow_progress_bar,\n\u001b[0;32m    453\u001b[0m     )\n",
      "File \u001b[1;32mc:\\Users\\felix.wente\\anaconda3\\envs\\cuda_env\\lib\\site-packages\\optuna\\study\\_optimize.py:66\u001b[0m, in \u001b[0;36m_optimize\u001b[1;34m(study, func, n_trials, timeout, n_jobs, catch, callbacks, gc_after_trial, show_progress_bar)\u001b[0m\n\u001b[0;32m     64\u001b[0m \u001b[39mtry\u001b[39;00m:\n\u001b[0;32m     65\u001b[0m     \u001b[39mif\u001b[39;00m n_jobs \u001b[39m==\u001b[39m \u001b[39m1\u001b[39m:\n\u001b[1;32m---> 66\u001b[0m         _optimize_sequential(\n\u001b[0;32m     67\u001b[0m             study,\n\u001b[0;32m     68\u001b[0m             func,\n\u001b[0;32m     69\u001b[0m             n_trials,\n\u001b[0;32m     70\u001b[0m             timeout,\n\u001b[0;32m     71\u001b[0m             catch,\n\u001b[0;32m     72\u001b[0m             callbacks,\n\u001b[0;32m     73\u001b[0m             gc_after_trial,\n\u001b[0;32m     74\u001b[0m             reseed_sampler_rng\u001b[39m=\u001b[39;49m\u001b[39mFalse\u001b[39;49;00m,\n\u001b[0;32m     75\u001b[0m             time_start\u001b[39m=\u001b[39;49m\u001b[39mNone\u001b[39;49;00m,\n\u001b[0;32m     76\u001b[0m             progress_bar\u001b[39m=\u001b[39;49mprogress_bar,\n\u001b[0;32m     77\u001b[0m         )\n\u001b[0;32m     78\u001b[0m     \u001b[39melse\u001b[39;00m:\n\u001b[0;32m     79\u001b[0m         \u001b[39mif\u001b[39;00m n_jobs \u001b[39m==\u001b[39m \u001b[39m-\u001b[39m\u001b[39m1\u001b[39m:\n",
      "File \u001b[1;32mc:\\Users\\felix.wente\\anaconda3\\envs\\cuda_env\\lib\\site-packages\\optuna\\study\\_optimize.py:163\u001b[0m, in \u001b[0;36m_optimize_sequential\u001b[1;34m(study, func, n_trials, timeout, catch, callbacks, gc_after_trial, reseed_sampler_rng, time_start, progress_bar)\u001b[0m\n\u001b[0;32m    160\u001b[0m         \u001b[39mbreak\u001b[39;00m\n\u001b[0;32m    162\u001b[0m \u001b[39mtry\u001b[39;00m:\n\u001b[1;32m--> 163\u001b[0m     frozen_trial \u001b[39m=\u001b[39m _run_trial(study, func, catch)\n\u001b[0;32m    164\u001b[0m \u001b[39mfinally\u001b[39;00m:\n\u001b[0;32m    165\u001b[0m     \u001b[39m# The following line mitigates memory problems that can be occurred in some\u001b[39;00m\n\u001b[0;32m    166\u001b[0m     \u001b[39m# environments (e.g., services that use computing containers such as GitHub Actions).\u001b[39;00m\n\u001b[0;32m    167\u001b[0m     \u001b[39m# Please refer to the following PR for further details:\u001b[39;00m\n\u001b[0;32m    168\u001b[0m     \u001b[39m# https://github.com/optuna/optuna/pull/325.\u001b[39;00m\n\u001b[0;32m    169\u001b[0m     \u001b[39mif\u001b[39;00m gc_after_trial:\n",
      "File \u001b[1;32mc:\\Users\\felix.wente\\anaconda3\\envs\\cuda_env\\lib\\site-packages\\optuna\\study\\_optimize.py:251\u001b[0m, in \u001b[0;36m_run_trial\u001b[1;34m(study, func, catch)\u001b[0m\n\u001b[0;32m    244\u001b[0m         \u001b[39massert\u001b[39;00m \u001b[39mFalse\u001b[39;00m, \u001b[39m\"\u001b[39m\u001b[39mShould not reach.\u001b[39m\u001b[39m\"\u001b[39m\n\u001b[0;32m    246\u001b[0m \u001b[39mif\u001b[39;00m (\n\u001b[0;32m    247\u001b[0m     frozen_trial\u001b[39m.\u001b[39mstate \u001b[39m==\u001b[39m TrialState\u001b[39m.\u001b[39mFAIL\n\u001b[0;32m    248\u001b[0m     \u001b[39mand\u001b[39;00m func_err \u001b[39mis\u001b[39;00m \u001b[39mnot\u001b[39;00m \u001b[39mNone\u001b[39;00m\n\u001b[0;32m    249\u001b[0m     \u001b[39mand\u001b[39;00m \u001b[39mnot\u001b[39;00m \u001b[39misinstance\u001b[39m(func_err, catch)\n\u001b[0;32m    250\u001b[0m ):\n\u001b[1;32m--> 251\u001b[0m     \u001b[39mraise\u001b[39;00m func_err\n\u001b[0;32m    252\u001b[0m \u001b[39mreturn\u001b[39;00m frozen_trial\n",
      "File \u001b[1;32mc:\\Users\\felix.wente\\anaconda3\\envs\\cuda_env\\lib\\site-packages\\optuna\\study\\_optimize.py:200\u001b[0m, in \u001b[0;36m_run_trial\u001b[1;34m(study, func, catch)\u001b[0m\n\u001b[0;32m    198\u001b[0m \u001b[39mwith\u001b[39;00m get_heartbeat_thread(trial\u001b[39m.\u001b[39m_trial_id, study\u001b[39m.\u001b[39m_storage):\n\u001b[0;32m    199\u001b[0m     \u001b[39mtry\u001b[39;00m:\n\u001b[1;32m--> 200\u001b[0m         value_or_values \u001b[39m=\u001b[39m func(trial)\n\u001b[0;32m    201\u001b[0m     \u001b[39mexcept\u001b[39;00m exceptions\u001b[39m.\u001b[39mTrialPruned \u001b[39mas\u001b[39;00m e:\n\u001b[0;32m    202\u001b[0m         \u001b[39m# TODO(mamu): Handle multi-objective cases.\u001b[39;00m\n\u001b[0;32m    203\u001b[0m         state \u001b[39m=\u001b[39m TrialState\u001b[39m.\u001b[39mPRUNED\n",
      "\u001b[1;32mc:\\Users\\felix.wente\\Github\\volleyball_injuries\\xgboost.ipynb Cell 15\u001b[0m in \u001b[0;36melastic_net_objective\u001b[1;34m(trial)\u001b[0m\n\u001b[0;32m     <a href='vscode-notebook-cell:/c%3A/Users/felix.wente/Github/volleyball_injuries/xgboost.ipynb#X40sZmlsZQ%3D%3D?line=11'>12</a>\u001b[0m y_train_cv, y_val_cv \u001b[39m=\u001b[39m y[train_index], y[val_index]\n\u001b[0;32m     <a href='vscode-notebook-cell:/c%3A/Users/felix.wente/Github/volleyball_injuries/xgboost.ipynb#X40sZmlsZQ%3D%3D?line=13'>14</a>\u001b[0m \u001b[39m# Fit the model\u001b[39;00m\n\u001b[1;32m---> <a href='vscode-notebook-cell:/c%3A/Users/felix.wente/Github/volleyball_injuries/xgboost.ipynb#X40sZmlsZQ%3D%3D?line=14'>15</a>\u001b[0m model\u001b[39m.\u001b[39;49mfit(X_train_cv, y_train_cv)\n\u001b[0;32m     <a href='vscode-notebook-cell:/c%3A/Users/felix.wente/Github/volleyball_injuries/xgboost.ipynb#X40sZmlsZQ%3D%3D?line=16'>17</a>\u001b[0m \u001b[39m# Predict the validation set\u001b[39;00m\n\u001b[0;32m     <a href='vscode-notebook-cell:/c%3A/Users/felix.wente/Github/volleyball_injuries/xgboost.ipynb#X40sZmlsZQ%3D%3D?line=17'>18</a>\u001b[0m y_pred \u001b[39m=\u001b[39m model\u001b[39m.\u001b[39mpredict(X_val_cv)\n",
      "File \u001b[1;32mc:\\Users\\felix.wente\\anaconda3\\envs\\cuda_env\\lib\\site-packages\\sklearn\\linear_model\\_coordinate_descent.py:955\u001b[0m, in \u001b[0;36mElasticNet.fit\u001b[1;34m(self, X, y, sample_weight, check_input)\u001b[0m\n\u001b[0;32m    953\u001b[0m \u001b[39mif\u001b[39;00m check_input:\n\u001b[0;32m    954\u001b[0m     X_copied \u001b[39m=\u001b[39m \u001b[39mself\u001b[39m\u001b[39m.\u001b[39mcopy_X \u001b[39mand\u001b[39;00m \u001b[39mself\u001b[39m\u001b[39m.\u001b[39mfit_intercept\n\u001b[1;32m--> 955\u001b[0m     X, y \u001b[39m=\u001b[39m \u001b[39mself\u001b[39;49m\u001b[39m.\u001b[39;49m_validate_data(\n\u001b[0;32m    956\u001b[0m         X,\n\u001b[0;32m    957\u001b[0m         y,\n\u001b[0;32m    958\u001b[0m         accept_sparse\u001b[39m=\u001b[39;49m\u001b[39m\"\u001b[39;49m\u001b[39mcsc\u001b[39;49m\u001b[39m\"\u001b[39;49m,\n\u001b[0;32m    959\u001b[0m         order\u001b[39m=\u001b[39;49m\u001b[39m\"\u001b[39;49m\u001b[39mF\u001b[39;49m\u001b[39m\"\u001b[39;49m,\n\u001b[0;32m    960\u001b[0m         dtype\u001b[39m=\u001b[39;49m[np\u001b[39m.\u001b[39;49mfloat64, np\u001b[39m.\u001b[39;49mfloat32],\n\u001b[0;32m    961\u001b[0m         copy\u001b[39m=\u001b[39;49mX_copied,\n\u001b[0;32m    962\u001b[0m         multi_output\u001b[39m=\u001b[39;49m\u001b[39mTrue\u001b[39;49;00m,\n\u001b[0;32m    963\u001b[0m         y_numeric\u001b[39m=\u001b[39;49m\u001b[39mTrue\u001b[39;49;00m,\n\u001b[0;32m    964\u001b[0m     )\n\u001b[0;32m    965\u001b[0m     y \u001b[39m=\u001b[39m check_array(\n\u001b[0;32m    966\u001b[0m         y, order\u001b[39m=\u001b[39m\u001b[39m\"\u001b[39m\u001b[39mF\u001b[39m\u001b[39m\"\u001b[39m, copy\u001b[39m=\u001b[39m\u001b[39mFalse\u001b[39;00m, dtype\u001b[39m=\u001b[39mX\u001b[39m.\u001b[39mdtype\u001b[39m.\u001b[39mtype, ensure_2d\u001b[39m=\u001b[39m\u001b[39mFalse\u001b[39;00m\n\u001b[0;32m    967\u001b[0m     )\n\u001b[0;32m    969\u001b[0m n_samples, n_features \u001b[39m=\u001b[39m X\u001b[39m.\u001b[39mshape\n",
      "File \u001b[1;32mc:\\Users\\felix.wente\\anaconda3\\envs\\cuda_env\\lib\\site-packages\\sklearn\\base.py:596\u001b[0m, in \u001b[0;36mBaseEstimator._validate_data\u001b[1;34m(self, X, y, reset, validate_separately, **check_params)\u001b[0m\n\u001b[0;32m    594\u001b[0m         y \u001b[39m=\u001b[39m check_array(y, input_name\u001b[39m=\u001b[39m\u001b[39m\"\u001b[39m\u001b[39my\u001b[39m\u001b[39m\"\u001b[39m, \u001b[39m*\u001b[39m\u001b[39m*\u001b[39mcheck_y_params)\n\u001b[0;32m    595\u001b[0m     \u001b[39melse\u001b[39;00m:\n\u001b[1;32m--> 596\u001b[0m         X, y \u001b[39m=\u001b[39m check_X_y(X, y, \u001b[39m*\u001b[39m\u001b[39m*\u001b[39mcheck_params)\n\u001b[0;32m    597\u001b[0m     out \u001b[39m=\u001b[39m X, y\n\u001b[0;32m    599\u001b[0m \u001b[39mif\u001b[39;00m \u001b[39mnot\u001b[39;00m no_val_X \u001b[39mand\u001b[39;00m check_params\u001b[39m.\u001b[39mget(\u001b[39m\"\u001b[39m\u001b[39mensure_2d\u001b[39m\u001b[39m\"\u001b[39m, \u001b[39mTrue\u001b[39;00m):\n",
      "File \u001b[1;32mc:\\Users\\felix.wente\\anaconda3\\envs\\cuda_env\\lib\\site-packages\\sklearn\\utils\\validation.py:1074\u001b[0m, in \u001b[0;36mcheck_X_y\u001b[1;34m(X, y, accept_sparse, accept_large_sparse, dtype, order, copy, force_all_finite, ensure_2d, allow_nd, multi_output, ensure_min_samples, ensure_min_features, y_numeric, estimator)\u001b[0m\n\u001b[0;32m   1069\u001b[0m         estimator_name \u001b[39m=\u001b[39m _check_estimator_name(estimator)\n\u001b[0;32m   1070\u001b[0m     \u001b[39mraise\u001b[39;00m \u001b[39mValueError\u001b[39;00m(\n\u001b[0;32m   1071\u001b[0m         \u001b[39mf\u001b[39m\u001b[39m\"\u001b[39m\u001b[39m{\u001b[39;00mestimator_name\u001b[39m}\u001b[39;00m\u001b[39m requires y to be passed, but the target y is None\u001b[39m\u001b[39m\"\u001b[39m\n\u001b[0;32m   1072\u001b[0m     )\n\u001b[1;32m-> 1074\u001b[0m X \u001b[39m=\u001b[39m check_array(\n\u001b[0;32m   1075\u001b[0m     X,\n\u001b[0;32m   1076\u001b[0m     accept_sparse\u001b[39m=\u001b[39;49maccept_sparse,\n\u001b[0;32m   1077\u001b[0m     accept_large_sparse\u001b[39m=\u001b[39;49maccept_large_sparse,\n\u001b[0;32m   1078\u001b[0m     dtype\u001b[39m=\u001b[39;49mdtype,\n\u001b[0;32m   1079\u001b[0m     order\u001b[39m=\u001b[39;49morder,\n\u001b[0;32m   1080\u001b[0m     copy\u001b[39m=\u001b[39;49mcopy,\n\u001b[0;32m   1081\u001b[0m     force_all_finite\u001b[39m=\u001b[39;49mforce_all_finite,\n\u001b[0;32m   1082\u001b[0m     ensure_2d\u001b[39m=\u001b[39;49mensure_2d,\n\u001b[0;32m   1083\u001b[0m     allow_nd\u001b[39m=\u001b[39;49mallow_nd,\n\u001b[0;32m   1084\u001b[0m     ensure_min_samples\u001b[39m=\u001b[39;49mensure_min_samples,\n\u001b[0;32m   1085\u001b[0m     ensure_min_features\u001b[39m=\u001b[39;49mensure_min_features,\n\u001b[0;32m   1086\u001b[0m     estimator\u001b[39m=\u001b[39;49mestimator,\n\u001b[0;32m   1087\u001b[0m     input_name\u001b[39m=\u001b[39;49m\u001b[39m\"\u001b[39;49m\u001b[39mX\u001b[39;49m\u001b[39m\"\u001b[39;49m,\n\u001b[0;32m   1088\u001b[0m )\n\u001b[0;32m   1090\u001b[0m y \u001b[39m=\u001b[39m _check_y(y, multi_output\u001b[39m=\u001b[39mmulti_output, y_numeric\u001b[39m=\u001b[39my_numeric, estimator\u001b[39m=\u001b[39mestimator)\n\u001b[0;32m   1092\u001b[0m check_consistent_length(X, y)\n",
      "File \u001b[1;32mc:\\Users\\felix.wente\\anaconda3\\envs\\cuda_env\\lib\\site-packages\\sklearn\\utils\\validation.py:822\u001b[0m, in \u001b[0;36mcheck_array\u001b[1;34m(array, accept_sparse, accept_large_sparse, dtype, order, copy, force_all_finite, ensure_2d, allow_nd, ensure_min_samples, ensure_min_features, estimator, input_name)\u001b[0m\n\u001b[0;32m    820\u001b[0m \u001b[39mif\u001b[39;00m sp\u001b[39m.\u001b[39missparse(array):\n\u001b[0;32m    821\u001b[0m     _ensure_no_complex_data(array)\n\u001b[1;32m--> 822\u001b[0m     array \u001b[39m=\u001b[39m _ensure_sparse_format(\n\u001b[0;32m    823\u001b[0m         array,\n\u001b[0;32m    824\u001b[0m         accept_sparse\u001b[39m=\u001b[39;49maccept_sparse,\n\u001b[0;32m    825\u001b[0m         dtype\u001b[39m=\u001b[39;49mdtype,\n\u001b[0;32m    826\u001b[0m         copy\u001b[39m=\u001b[39;49mcopy,\n\u001b[0;32m    827\u001b[0m         force_all_finite\u001b[39m=\u001b[39;49mforce_all_finite,\n\u001b[0;32m    828\u001b[0m         accept_large_sparse\u001b[39m=\u001b[39;49maccept_large_sparse,\n\u001b[0;32m    829\u001b[0m         estimator_name\u001b[39m=\u001b[39;49mestimator_name,\n\u001b[0;32m    830\u001b[0m         input_name\u001b[39m=\u001b[39;49minput_name,\n\u001b[0;32m    831\u001b[0m     )\n\u001b[0;32m    832\u001b[0m \u001b[39melse\u001b[39;00m:\n\u001b[0;32m    833\u001b[0m     \u001b[39m# If np.array(..) gives ComplexWarning, then we convert the warning\u001b[39;00m\n\u001b[0;32m    834\u001b[0m     \u001b[39m# to an error. This is needed because specifying a non complex\u001b[39;00m\n\u001b[0;32m    835\u001b[0m     \u001b[39m# dtype to the function converts complex to real dtype,\u001b[39;00m\n\u001b[0;32m    836\u001b[0m     \u001b[39m# thereby passing the test made in the lines following the scope\u001b[39;00m\n\u001b[0;32m    837\u001b[0m     \u001b[39m# of warnings context manager.\u001b[39;00m\n\u001b[0;32m    838\u001b[0m     \u001b[39mwith\u001b[39;00m warnings\u001b[39m.\u001b[39mcatch_warnings():\n",
      "File \u001b[1;32mc:\\Users\\felix.wente\\anaconda3\\envs\\cuda_env\\lib\\site-packages\\sklearn\\utils\\validation.py:551\u001b[0m, in \u001b[0;36m_ensure_sparse_format\u001b[1;34m(spmatrix, accept_sparse, dtype, copy, force_all_finite, accept_large_sparse, estimator_name, input_name)\u001b[0m\n\u001b[0;32m    546\u001b[0m         warnings\u001b[39m.\u001b[39mwarn(\n\u001b[0;32m    547\u001b[0m             \u001b[39m\"\u001b[39m\u001b[39mCan\u001b[39m\u001b[39m'\u001b[39m\u001b[39mt check \u001b[39m\u001b[39m%s\u001b[39;00m\u001b[39m sparse matrix for nan or inf.\u001b[39m\u001b[39m\"\u001b[39m \u001b[39m%\u001b[39m spmatrix\u001b[39m.\u001b[39mformat,\n\u001b[0;32m    548\u001b[0m             stacklevel\u001b[39m=\u001b[39m\u001b[39m2\u001b[39m,\n\u001b[0;32m    549\u001b[0m         )\n\u001b[0;32m    550\u001b[0m     \u001b[39melse\u001b[39;00m:\n\u001b[1;32m--> 551\u001b[0m         _assert_all_finite(\n\u001b[0;32m    552\u001b[0m             spmatrix\u001b[39m.\u001b[39;49mdata,\n\u001b[0;32m    553\u001b[0m             allow_nan\u001b[39m=\u001b[39;49mforce_all_finite \u001b[39m==\u001b[39;49m \u001b[39m\"\u001b[39;49m\u001b[39mallow-nan\u001b[39;49m\u001b[39m\"\u001b[39;49m,\n\u001b[0;32m    554\u001b[0m             estimator_name\u001b[39m=\u001b[39;49mestimator_name,\n\u001b[0;32m    555\u001b[0m             input_name\u001b[39m=\u001b[39;49minput_name,\n\u001b[0;32m    556\u001b[0m         )\n\u001b[0;32m    558\u001b[0m \u001b[39mreturn\u001b[39;00m spmatrix\n",
      "File \u001b[1;32mc:\\Users\\felix.wente\\anaconda3\\envs\\cuda_env\\lib\\site-packages\\sklearn\\utils\\validation.py:146\u001b[0m, in \u001b[0;36m_assert_all_finite\u001b[1;34m(X, allow_nan, msg_dtype, estimator_name, input_name)\u001b[0m\n\u001b[0;32m    124\u001b[0m         \u001b[39mif\u001b[39;00m (\n\u001b[0;32m    125\u001b[0m             \u001b[39mnot\u001b[39;00m allow_nan\n\u001b[0;32m    126\u001b[0m             \u001b[39mand\u001b[39;00m estimator_name\n\u001b[1;32m   (...)\u001b[0m\n\u001b[0;32m    130\u001b[0m             \u001b[39m# Improve the error message on how to handle missing values in\u001b[39;00m\n\u001b[0;32m    131\u001b[0m             \u001b[39m# scikit-learn.\u001b[39;00m\n\u001b[0;32m    132\u001b[0m             msg_err \u001b[39m+\u001b[39m\u001b[39m=\u001b[39m (\n\u001b[0;32m    133\u001b[0m                 \u001b[39mf\u001b[39m\u001b[39m\"\u001b[39m\u001b[39m\\n\u001b[39;00m\u001b[39m{\u001b[39;00mestimator_name\u001b[39m}\u001b[39;00m\u001b[39m does not accept missing values\u001b[39m\u001b[39m\"\u001b[39m\n\u001b[0;32m    134\u001b[0m                 \u001b[39m\"\u001b[39m\u001b[39m encoded as NaN natively. For supervised learning, you might want\u001b[39m\u001b[39m\"\u001b[39m\n\u001b[1;32m   (...)\u001b[0m\n\u001b[0;32m    144\u001b[0m                 \u001b[39m\"\u001b[39m\u001b[39m#estimators-that-handle-nan-values\u001b[39m\u001b[39m\"\u001b[39m\n\u001b[0;32m    145\u001b[0m             )\n\u001b[1;32m--> 146\u001b[0m         \u001b[39mraise\u001b[39;00m \u001b[39mValueError\u001b[39;00m(msg_err)\n\u001b[0;32m    148\u001b[0m \u001b[39m# for object dtype data, we only check for NaNs (GH-13254)\u001b[39;00m\n\u001b[0;32m    149\u001b[0m \u001b[39melif\u001b[39;00m X\u001b[39m.\u001b[39mdtype \u001b[39m==\u001b[39m np\u001b[39m.\u001b[39mdtype(\u001b[39m\"\u001b[39m\u001b[39mobject\u001b[39m\u001b[39m\"\u001b[39m) \u001b[39mand\u001b[39;00m \u001b[39mnot\u001b[39;00m allow_nan:\n",
      "\u001b[1;31mValueError\u001b[0m: Input X contains NaN.\nElasticNet does not accept missing values encoded as NaN natively. For supervised learning, you might want to consider sklearn.ensemble.HistGradientBoostingClassifier and Regressor which accept missing values encoded as NaNs natively. Alternatively, it is possible to preprocess the data, for instance by using an imputer transformer in a pipeline or drop samples with missing values. See https://scikit-learn.org/stable/modules/impute.html You can find a list of all estimators that handle NaN values at the following page: https://scikit-learn.org/stable/modules/impute.html#estimators-that-handle-nan-values"
     ]
    }
   ],
   "source": [
    "elastic_net_study.optimize(elastic_net_objective, n_trials=200) "
   ]
  }
 ],
 "metadata": {
  "kernelspec": {
   "display_name": "base",
   "language": "python",
   "name": "python3"
  },
  "language_info": {
   "codemirror_mode": {
    "name": "ipython",
    "version": 3
   },
   "file_extension": ".py",
   "mimetype": "text/x-python",
   "name": "python",
   "nbconvert_exporter": "python",
   "pygments_lexer": "ipython3",
   "version": "3.9.12"
  },
  "orig_nbformat": 4
 },
 "nbformat": 4,
 "nbformat_minor": 2
}
